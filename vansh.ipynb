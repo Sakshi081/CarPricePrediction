{
  "nbformat": 4,
  "nbformat_minor": 0,
  "metadata": {
    "colab": {
      "provenance": [],
      "authorship_tag": "ABX9TyMcIosCFY/D+sUO0qWjG53r",
      "include_colab_link": true
    },
    "kernelspec": {
      "name": "python3",
      "display_name": "Python 3"
    },
    "language_info": {
      "name": "python"
    }
  },
  "cells": [
    {
      "cell_type": "markdown",
      "metadata": {
        "id": "view-in-github",
        "colab_type": "text"
      },
      "source": [
        "<a href=\"https://colab.research.google.com/github/Sakshi081/CarPricePrediction/blob/main/vansh.ipynb\" target=\"_parent\"><img src=\"https://colab.research.google.com/assets/colab-badge.svg\" alt=\"Open In Colab\"/></a>"
      ]
    },
    {
      "cell_type": "code",
      "execution_count": null,
      "metadata": {
        "id": "YUV-JEOW4Es-"
      },
      "outputs": [],
      "source": [
        "\n",
        "'''The Log Kernel Similarity between input features of any two training examples in the dataset is given as:\n",
        "K(x,y) = log(|x-y|^d + 1)\n",
        "\n",
        "where x and y are vectors of input features of any two training examples; d is a fixed parameter and |x-y| denotes the length of vector x-y\n",
        "\n",
        "Code a function named as output_matrix and should take the following two input arguments i.e., output_matrix(input1,d):\n",
        "\n",
        "input1- the Data Frame which contains p rows (training examples) and q columns (i.e. q-1 input features and an output label column which is the last column)\n",
        "\n",
        "d- constant power used in Log kernel similarity\n",
        "\n",
        "Output- It should return a Data Frame with p rows and (p+1) columns. The first p rows and p columns should be the Log Kernel similarity between each pair of training examples and the last column should be the output label of each training example. in python\n",
        "'''\n",
        "\n",
        "\n",
        "\n",
        "import pandas as pd\n",
        "import numpy as np\n",
        "\n",
        "def output_matrix(input1, d):\n",
        "    features = input1.iloc[:, :-1].values\n",
        "    labels = input1.iloc[:, -1].values\n",
        "    p = len(features)\n",
        "    output_matrix = np.zeros((p, p + 1))\n",
        "\n",
        "    for i in range(p):\n",
        "        for j in range(p):\n",
        "            x = features[i]\n",
        "            y = features[j]\n",
        "            similarity = np.log(np.linalg.norm(x - y) ** d + 1)\n",
        "            output_matrix[i, j] = similarity\n",
        "\n",
        "\n",
        "    output_matrix[:, -1] = labels\n",
        "    output_df= pd.DataFrame(output_matrix, columns=[f'Similarity_{i+1}' for i in range(p)] + ['Output_Label'])\n",
        "    return output\n",
        "result_df = output_matrix(df, d)\n",
        "print(result_df)\n",
        "}\n"
      ]
    }
  ]
}